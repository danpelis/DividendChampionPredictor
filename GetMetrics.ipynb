{
 "cells": [
  {
   "cell_type": "code",
   "execution_count": 24,
   "metadata": {},
   "outputs": [],
   "source": [
    "import yfinance as yf\n",
    "import numpy as np\n",
    "import pandas as pd\n",
    "from collections import defaultdict"
   ]
  },
  {
   "cell_type": "code",
   "execution_count": null,
   "metadata": {},
   "outputs": [],
   "source": []
  },
  {
   "cell_type": "code",
   "execution_count": 19,
   "metadata": {},
   "outputs": [],
   "source": [
    "kept_status = np.load(\"kept_status.npy\")\n",
    "lost_status = np.load(\"lost_status.npy\")"
   ]
  },
  {
   "cell_type": "code",
   "execution_count": 20,
   "metadata": {},
   "outputs": [],
   "source": [
    "kept = defaultdict(None)\n",
    "lost = defaultdict(None)\n",
    "\n",
    "for tckr in kept_status:\n",
    "    kept[tckr] = yf.Ticker(tckr)\n",
    "\n",
    "for tckr in lost_status:\n",
    "    lost[tckr] = yf.Ticker(tckr)"
   ]
  },
  {
   "cell_type": "code",
   "execution_count": 21,
   "metadata": {},
   "outputs": [
    {
     "data": {
      "text/plain": [
       "172"
      ]
     },
     "execution_count": 21,
     "metadata": {},
     "output_type": "execute_result"
    }
   ],
   "source": [
    "size = len(kept.keys()) + len(lost.keys())\n",
    "size"
   ]
  },
  {
   "cell_type": "markdown",
   "metadata": {},
   "source": [
    "Metrics\n",
    "[T = [Ticker, Price, (Lost/Kept)]]"
   ]
  },
  {
   "cell_type": "code",
   "execution_count": 41,
   "metadata": {},
   "outputs": [
    {
     "name": "stdout",
     "output_type": "stream",
     "text": [
      "- HGIC: No data found for this date range, symbol may be delisted\n",
      "Lost\n",
      "'list' object has no attribute 'to_csv'\n",
      "Added WRE\n",
      "Added ABT\n",
      "Added PBI\n",
      "Added MHP\n",
      "Added DBD\n",
      "Added EGN\n",
      "- WAG: No data found for this date range, symbol may be delisted\n",
      "Lost\n",
      "'list' object has no attribute 'to_csv'\n",
      "- FDO: No data found for this date range, symbol may be delisted\n",
      "Lost\n",
      "'list' object has no attribute 'to_csv'\n",
      "- SIAL: No data found for this date range, symbol may be delisted\n",
      "Lost\n",
      "'list' object has no attribute 'to_csv'\n",
      "Added CB\n",
      "- MHFI: No data found for this date range, symbol may be delisted\n",
      "Lost\n",
      "'list' object has no attribute 'to_csv'\n",
      "Added STR\n",
      "- RAVN: No data found, symbol may be delisted\n",
      "Lost\n",
      "'list' object has no attribute 'to_csv'\n",
      "- PNY: No data found for this date range, symbol may be delisted\n",
      "Lost\n",
      "'list' object has no attribute 'to_csv'\n",
      "Added HCP\n",
      "Added CLC\n",
      "- LLTC: No data found for this date range, symbol may be delisted\n",
      "Lost\n",
      "'list' object has no attribute 'to_csv'\n",
      "Added VAL\n",
      "- BCR: No data found for this date range, symbol may be delisted\n",
      "Lost\n",
      "'list' object has no attribute 'to_csv'\n",
      "Added WGL\n",
      "Added PX\n",
      "Added VVC\n",
      "Added BMS\n",
      "- CTWS: No data found, symbol may be delisted\n",
      "Lost\n",
      "'list' object has no attribute 'to_csv'\n",
      "- WTR: No data found, symbol may be delisted\n",
      "Lost\n",
      "'list' object has no attribute 'to_csv'\n",
      "Added TYCB\n",
      "Added HP\n",
      "Added MDP\n",
      "- UTX: No data found, symbol may be delisted\n",
      "Lost\n",
      "'list' object has no attribute 'to_csv'\n",
      "Added ROST\n",
      "Added SKT\n",
      "Added UBA\n",
      "Added RTX\n",
      "- EV: No data found, symbol may be delisted\n",
      "Lost\n",
      "'list' object has no attribute 'to_csv'\n"
     ]
    }
   ],
   "source": [
    "for t in kept_status:\n",
    "    try:\n",
    "        kept[t].dividends.to_csv(f'data/series/{t}_dividends.csv')\n",
    "    except Exception as e:\n",
    "        print(f'Kept\\n{e}')\n",
    "\n",
    "for t in lost_status:\n",
    "    try:\n",
    "        lost[t].dividends.to_csv(f'data/series/{t}_dividends.csv')\n",
    "    except Exception as e:\n",
    "        print(f'Lost\\n{e}')"
   ]
  },
  {
   "cell_type": "code",
   "execution_count": 23,
   "metadata": {},
   "outputs": [
    {
     "name": "stdout",
     "output_type": "stream",
     "text": [
      "['__class__', '__delattr__', '__dict__', '__dir__', '__doc__', '__eq__', '__format__', '__ge__', '__getattribute__', '__gt__', '__hash__', '__init__', '__init_subclass__', '__le__', '__lt__', '__module__', '__ne__', '__new__', '__reduce__', '__reduce_ex__', '__repr__', '__setattr__', '__sizeof__', '__str__', '__subclasshook__', '__weakref__', '_analysis', '_balancesheet', '_base_url', '_calendar', '_cashflow', '_download_options', '_earnings', '_expirations', '_financials', '_fundamentals', '_get_fundamentals', '_history', '_info', '_institutional_holders', '_isin', '_major_holders', '_mutualfund_holders', '_news', '_options2df', '_recommendations', '_scrape_url', '_shares', '_sustainability', 'actions', 'analysis', 'balance_sheet', 'balancesheet', 'calendar', 'cashflow', 'dividends', 'earnings', 'financials', 'get_actions', 'get_analysis', 'get_balance_sheet', 'get_balancesheet', 'get_calendar', 'get_cashflow', 'get_dividends', 'get_earnings', 'get_financials', 'get_info', 'get_institutional_holders', 'get_isin', 'get_major_holders', 'get_mutualfund_holders', 'get_news', 'get_recommendations', 'get_shares', 'get_splits', 'get_sustainability', 'history', 'info', 'institutional_holders', 'isin', 'major_holders', 'mutualfund_holders', 'news', 'option_chain', 'options', 'quarterly_balance_sheet', 'quarterly_balancesheet', 'quarterly_cashflow', 'quarterly_earnings', 'quarterly_financials', 'recommendations', 'session', 'shares', 'splits', 'stats', 'sustainability', 'ticker']\n"
     ]
    }
   ],
   "source": [
    "t = yf.Ticker('T')\n",
    "print(dir(t))"
   ]
  },
  {
   "cell_type": "code",
   "execution_count": 26,
   "metadata": {},
   "outputs": [
    {
     "data": {
      "text/plain": [
       "pandas.core.series.Series"
      ]
     },
     "execution_count": 26,
     "metadata": {},
     "output_type": "execute_result"
    }
   ],
   "source": [
    "type(t.dividends)"
   ]
  },
  {
   "cell_type": "code",
   "execution_count": null,
   "metadata": {},
   "outputs": [],
   "source": []
  }
 ],
 "metadata": {
  "interpreter": {
   "hash": "eeb0b1f2d66c270eb7919ffa3ebf5524e197563bda0b15333d41dd481ffcf213"
  },
  "kernelspec": {
   "display_name": "Python 3.9.10 64-bit (windows store)",
   "language": "python",
   "name": "python3"
  },
  "language_info": {
   "codemirror_mode": {
    "name": "ipython",
    "version": 3
   },
   "file_extension": ".py",
   "mimetype": "text/x-python",
   "name": "python",
   "nbconvert_exporter": "python",
   "pygments_lexer": "ipython3",
   "version": "3.9.5"
  },
  "orig_nbformat": 4
 },
 "nbformat": 4,
 "nbformat_minor": 2
}
