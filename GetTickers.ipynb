{
 "cells": [
  {
   "cell_type": "code",
   "execution_count": 41,
   "id": "1457c57a-9387-4620-b4bc-0e9bee4a7d8f",
   "metadata": {},
   "outputs": [],
   "source": [
    "import pandas as pd\n",
    "import yfinance as yf\n",
    "import datetime\n",
    "import os\n",
    "import numpy as np"
   ]
  },
  {
   "cell_type": "code",
   "execution_count": 38,
   "id": "dcd022c2-3a52-4169-9b11-3d6b028cd87b",
   "metadata": {
    "collapsed": true,
    "jupyter": {
     "outputs_hidden": true
    },
    "tags": []
   },
   "outputs": [],
   "source": [
    "Sheets = dict()\n",
    "for path, dirs, files in os.walk(\"./data/raw\"):\n",
    "    sort = np.argsort(files)\n",
    "    year = path.split(\"/\")[-1]\n",
    "    if year not in 'raw':\n",
    "        Sheets[year] = []\n",
    "    for file in np.array(files)[sort]:\n",
    "        if file not in \".DS_Store\":\n",
    "            Sheets[year].append(pd.read_excel(path+\"/\"+file, sheet_name=[\"Champions\"], header=5))\n",
    "print(path)"
   ]
  },
  {
   "cell_type": "code",
   "execution_count": 24,
   "id": "47ac70fc-a9a4-4b28-8b11-40636301774f",
   "metadata": {},
   "outputs": [],
   "source": [
    "years = sorted(list(Sheets.keys())[1:])\n",
    "years = years[1:]"
   ]
  },
  {
   "cell_type": "code",
   "execution_count": 25,
   "id": "53f0b6c0-716e-4a36-9dc7-70f9362c619a",
   "metadata": {},
   "outputs": [],
   "source": [
    "tickers = []\n",
    "\n",
    "for year in years:\n",
    "    for i in range(len(Sheets[year])):\n",
    "        symbols = Sheets[year][i]['Champions']['Symbol']\n",
    "        \n",
    "        notna = pd.notna(symbols)\n",
    "        symbols = symbols[notna].values.astype('<U5')\n",
    "        \n",
    "        notnum = np.char.isalpha(symbols)\n",
    "        symbols = symbols[notnum]\n",
    "        \n",
    "        tickers.append(symbols)"
   ]
  },
  {
   "cell_type": "code",
   "execution_count": 26,
   "id": "5697a048-cece-4e97-99af-ccdbba761e5e",
   "metadata": {},
   "outputs": [],
   "source": [
    "k = 0\n",
    "ct=0\n",
    "lost_status_date = []\n",
    "lost_status = []\n",
    "\n",
    "kept_status_date = []\n",
    "kept_status = []\n",
    "\n",
    "for i, year in enumerate(years):\n",
    "    for j in range(len(Sheets[year])):\n",
    "        if k!=0:\n",
    "            prev = tickers[k-1]\n",
    "            curr = tickers[k]\n",
    "            lost = [sym not in curr for sym in prev]\n",
    "            kept = [sym in curr for sym in prev]\n",
    "            if list(prev[lost]):\n",
    "                ct+=len(prev[lost])\n",
    "                lost_status_date.append((year, j, prev[lost]))\n",
    "                lost_status = np.concatenate([lost_status, prev[lost]])\n",
    "                kept_status_date.append((year,j,prev[kept]))\n",
    "                kept_status = np.concatenate([kept_status, prev[kept]])\n",
    "\n",
    "        k+=1          "
   ]
  },
  {
   "cell_type": "code",
   "execution_count": 27,
   "id": "57a745ea-2106-4678-ab36-3a9f6ea5e474",
   "metadata": {},
   "outputs": [
    {
     "data": {
      "text/plain": [
       "array(['HGIC', 'WRE', 'ABT', 'PBI', 'MHP', 'DBD', 'EGN', 'WAG', 'FDO',\n",
       "       'SIAL', 'CB', 'MHFI', 'STR', 'RAVN', 'PNY', 'HCP', 'CLC', 'LLTC',\n",
       "       'VAL', 'BCR', 'WGL', 'PX', 'VVC', 'BMS', 'CTWS', 'WTR', 'TYCB',\n",
       "       'HP', 'MDP', 'UTX', 'ROST', 'SKT', 'UBA', 'RTX', 'EV'],\n",
       "      dtype='<U32')"
      ]
     },
     "execution_count": 27,
     "metadata": {},
     "output_type": "execute_result"
    }
   ],
   "source": [
    "lost_status"
   ]
  },
  {
   "cell_type": "code",
   "execution_count": 28,
   "id": "b2f04b38-73de-45c1-a584-e772c9022beb",
   "metadata": {},
   "outputs": [
    {
     "data": {
      "text/plain": [
       "array(['DOV', 'TROW', 'T', 'NUE', 'GWW', 'DCI', 'CPKF', 'MKC', 'GD',\n",
       "       'FUL', 'EFSI', 'ABM', 'WABC', 'WST', 'NIDB', 'RPM', 'PG', 'ATR',\n",
       "       'LIN', 'MDU', 'CAT', 'UVV', 'SWK', 'TMP', 'SRCE', 'MCY', 'ITW',\n",
       "       'LECO', 'ESS', 'UBSI', 'CVX', 'CFR', 'PPG', 'LOW', 'UMBF', 'NWN',\n",
       "       'ARTNA', 'PSBQ', 'SYK', 'MDT', 'GRC', 'NC', 'FELE', 'BKH', 'FMCB',\n",
       "       'NEE', 'EXPD', 'MO', 'WEYS', 'APD', 'KO', 'AOS', 'CINF', 'NFG',\n",
       "       'CBU', 'SCL', 'ORI', 'OZK', 'UHT', 'SJW', 'FLIC', 'CBSH', 'EBTC',\n",
       "       'BDX', 'WTRG', 'CTAS', 'ENB', 'GPC', 'CL', 'MCD', 'MGRC', 'IBM',\n",
       "       'CHD', 'CSVI', 'TNC', 'FRT', 'PBCT', 'MATW', 'CLX', 'CTBI', 'JKHY',\n",
       "       'BRO', 'MGEE', 'RNR', 'SPGI', 'TR', 'MSA', 'AFL', 'PII', 'O',\n",
       "       'SEIC', 'TRI', 'BMI', 'WBA', 'PNR', 'ADP', 'SYY', 'KMB', 'CWT',\n",
       "       'AROW', 'BEN', 'WMT', 'THFF', 'CNI', 'ATO', 'UGI', 'TDS', 'ADM',\n",
       "       'NDSN', 'ERIE', 'JNJ', 'AWR', 'BRC', 'HRL', 'ALB', 'NNN', 'TGT',\n",
       "       'XOM', 'SHW', 'BANF', 'MMM', 'MSEX', 'EMR', 'ECL', 'LEG', 'RLI',\n",
       "       'ED', 'SON', 'LANC', 'CSL', 'PH', 'SBSI', 'NJR', 'FFMR', 'ROP',\n",
       "       'PEP', 'VFC'], dtype='<U5')"
      ]
     },
     "execution_count": 28,
     "metadata": {},
     "output_type": "execute_result"
    }
   ],
   "source": [
    "kept_status = np.array(list(set(kept_status)))\n",
    "kept_status = np.array(list(set(kept_status).difference(lost_status)))\n",
    "kept_status"
   ]
  },
  {
   "cell_type": "code",
   "execution_count": 33,
   "id": "40443016",
   "metadata": {},
   "outputs": [],
   "source": [
    "np.save(\"kept_status\", kept_status)\n",
    "np.save(\"lost_status\", lost_status)"
   ]
  },
  {
   "cell_type": "code",
   "execution_count": null,
   "id": "d5c3ffe9",
   "metadata": {},
   "outputs": [],
   "source": []
  }
 ],
 "metadata": {
  "kernelspec": {
   "display_name": "Python 3 (ipykernel)",
   "language": "python",
   "name": "python3"
  },
  "language_info": {
   "codemirror_mode": {
    "name": "ipython",
    "version": 3
   },
   "file_extension": ".py",
   "mimetype": "text/x-python",
   "name": "python",
   "nbconvert_exporter": "python",
   "pygments_lexer": "ipython3",
   "version": "3.9.5"
  },
  "widgets": {
   "application/vnd.jupyter.widget-state+json": {
    "state": {},
    "version_major": 2,
    "version_minor": 0
   }
  }
 },
 "nbformat": 4,
 "nbformat_minor": 5
}
