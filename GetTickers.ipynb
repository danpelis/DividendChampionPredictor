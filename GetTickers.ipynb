{
 "cells": [
  {
   "cell_type": "code",
   "execution_count": 3,
   "id": "1457c57a-9387-4620-b4bc-0e9bee4a7d8f",
   "metadata": {},
   "outputs": [],
   "source": [
    "import pandas as pd\n",
    "import yfinance as yf\n",
    "import datetime\n",
    "import os\n",
    "import numpy as np"
   ]
  },
  {
   "cell_type": "code",
   "execution_count": 2,
   "id": "dcd022c2-3a52-4169-9b11-3d6b028cd87b",
   "metadata": {
    "tags": []
   },
   "outputs": [],
   "source": [
    "Sheets = dict()\n",
    "for path,dirs,files in os.walk(\"./data/raw\"):\n",
    "    sort = np.argsort(files)\n",
    "    year = path.split(\"/\")[-1]\n",
    "    if year not in 'raw':\n",
    "        Sheets[year] = []\n",
    "    for file in np.array(files)[sort]:\n",
    "        if file not in \".DS_Store\":\n",
    "            Sheets[year].append(pd.read_excel(path+\"/\"+file, sheet_name=[\"Champions\"], header=5))"
   ]
  },
  {
   "cell_type": "code",
   "execution_count": 53,
   "id": "47ac70fc-a9a4-4b28-8b11-40636301774f",
   "metadata": {},
   "outputs": [],
   "source": [
    "years = sorted(list(Sheets.keys())[1:])\n",
    "years = years[1:]"
   ]
  },
  {
   "cell_type": "code",
   "execution_count": 54,
   "id": "53f0b6c0-716e-4a36-9dc7-70f9362c619a",
   "metadata": {},
   "outputs": [],
   "source": [
    "tickers = []\n",
    "\n",
    "for year in years:\n",
    "    for i in range(len(Sheets[year])):\n",
    "        symbols = Sheets[year][i]['Champions']['Symbol']\n",
    "        \n",
    "        notna = pd.notna(symbols)\n",
    "        symbols = symbols[notna].values.astype('<U5')\n",
    "        \n",
    "        notnum = np.char.isalpha(symbols)\n",
    "        symbols = symbols[notnum]\n",
    "        \n",
    "        tickers.append(symbols)"
   ]
  },
  {
   "cell_type": "code",
   "execution_count": 67,
   "id": "5697a048-cece-4e97-99af-ccdbba761e5e",
   "metadata": {},
   "outputs": [
    {
     "name": "stdout",
     "output_type": "stream",
     "text": [
      "2010 1 []\n",
      "2010 2 []\n",
      "2010 3 []\n",
      "2010 4 []\n",
      "2010 5 []\n",
      "2010 6 []\n",
      "2010 7 []\n",
      "2010 8 []\n",
      "2010 9 ['BXS']\n",
      "2010 10 ['BOH' 'LLY' 'TEG' 'TFX']\n",
      "2010 11 []\n",
      "2011 0 []\n",
      "2011 1 []\n",
      "2011 2 []\n",
      "2011 3 []\n",
      "2011 4 []\n",
      "2011 5 []\n",
      "2011 6 ['WSC']\n",
      "2011 7 ['IRET']\n",
      "2011 8 []\n",
      "2011 9 []\n",
      "2011 10 []\n",
      "2011 11 ['CTL']\n",
      "2012 0 []\n",
      "2012 1 []\n",
      "2012 2 []\n",
      "2012 3 []\n",
      "2012 4 []\n",
      "2012 5 ['HGIC']\n",
      "2012 6 []\n",
      "2012 7 ['WRE']\n",
      "2012 8 []\n",
      "2012 9 []\n",
      "2012 10 []\n",
      "2012 11 []\n",
      "2014 0 ['ABT' 'MHP' 'PBI']\n",
      "2014 1 []\n",
      "2014 2 []\n",
      "2014 3 []\n",
      "2014 4 []\n",
      "2014 5 []\n",
      "2014 6 []\n",
      "2014 7 []\n",
      "2014 8 []\n",
      "2014 9 []\n",
      "2014 10 ['DBD' 'EGN']\n",
      "2014 11 []\n",
      "2015 0 []\n",
      "2015 1 ['WAG']\n",
      "2015 2 ['FDO']\n",
      "2015 3 []\n",
      "2015 4 []\n",
      "2015 5 []\n",
      "2015 6 []\n",
      "2015 7 []\n",
      "2015 8 []\n",
      "2015 9 []\n",
      "2015 10 []\n",
      "2015 11 ['SIAL']\n",
      "2016 0 []\n",
      "2016 1 ['CB']\n",
      "2016 2 []\n",
      "2016 3 []\n",
      "2016 4 []\n",
      "2016 5 ['MHFI']\n",
      "2016 6 []\n",
      "2016 7 []\n",
      "2016 8 []\n",
      "2016 9 ['STR' 'RAVN']\n",
      "2016 10 ['PNY']\n",
      "2016 11 ['HCP']\n",
      "2017 0 []\n",
      "2017 1 []\n",
      "2017 2 []\n",
      "2017 3 ['CLC' 'LLTC']\n",
      "2017 4 []\n",
      "2017 5 ['VAL']\n",
      "2017 6 []\n",
      "2017 7 []\n",
      "2017 8 []\n",
      "2017 9 []\n",
      "2017 10 []\n",
      "2017 11 []\n",
      "2018 0 ['BCR']\n",
      "2018 1 []\n",
      "2018 2 []\n",
      "2018 3 []\n",
      "2018 4 []\n",
      "2018 5 []\n",
      "2018 6 []\n",
      "2018 7 []\n",
      "2018 8 ['WGL']\n",
      "2018 9 []\n",
      "2018 10 []\n",
      "2018 11 ['PX']\n",
      "2019 0 []\n",
      "2019 1 []\n",
      "2019 2 ['VVC']\n",
      "2019 3 []\n",
      "2019 4 []\n",
      "2019 5 []\n",
      "2019 6 ['BMS']\n",
      "2019 7 []\n",
      "2019 8 []\n",
      "2019 9 []\n",
      "2019 10 ['CTWS']\n",
      "2019 11 []\n",
      "2020 0 []\n",
      "2020 1 []\n",
      "2020 2 ['WTR']\n",
      "2020 3 ['TYCB']\n",
      "2020 4 ['HP' 'MDP' 'UTX']\n",
      "2020 5 ['ROST' 'SKT']\n",
      "2020 6 ['UBA']\n",
      "2020 7 []\n",
      "2020 8 []\n",
      "2020 9 []\n",
      "2020 10 []\n",
      "2020 11 ['RTX']\n",
      "2021 0 []\n",
      "2021 1 []\n",
      "2021 2 []\n",
      "2021 3 ['EV']\n"
     ]
    }
   ],
   "source": [
    "k = 0\n",
    "for i, year in enumerate(years):\n",
    "    for j in range(len(Sheets[year])):\n",
    "        if k!=0:\n",
    "            prev = tickers[k-1]\n",
    "            curr = tickers[k]\n",
    "            lost = [sym not in curr for sym in prev]\n",
    "            print(year, j, prev[lost])\n",
    "        k+=1\n",
    "        \n",
    "            "
   ]
  },
  {
   "cell_type": "code",
   "execution_count": 63,
   "id": "57a745ea-2106-4678-ab36-3a9f6ea5e474",
   "metadata": {},
   "outputs": [
    {
     "data": {
      "text/plain": [
       "array(['SRCE', 'MMM', 'AOS', 'ABM', 'AFL', 'APD', 'MO', 'AWR', 'ATR',\n",
       "       'WTR', 'ADM', 'AROW', 'ARTNA', 'T', 'ATO', 'ADP', 'BMI', 'BANF',\n",
       "       'BDX', 'BMS', 'BKH', 'BRC', 'BRO', 'CWT', 'TYCB', 'CSL', 'CAT',\n",
       "       'CPKF', 'CVX', 'CB', 'CINF', 'CTAS', 'CLX', 'KO', 'CL', 'CBSH',\n",
       "       'CBU', 'CTBI', 'CSVI', 'CTWS', 'ED', 'CFR', 'DCI', 'DOV', 'EFSI',\n",
       "       'EV', 'ECL', 'EMR', 'EBTC', 'ERIE', 'ESS', 'XOM', 'FMCB', 'FRT',\n",
       "       'THFF', 'FELE', 'BEN', 'GD', 'GPC', 'GRC', 'FUL', 'HP', 'HRL',\n",
       "       'ITW', 'JKHY', 'JNJ', 'KMB', 'LANC', 'LEG', 'LIN', 'LOW', 'MKC',\n",
       "       'MCD', 'MGRC', 'MDU', 'MDT', 'MCY', 'MDP', 'MGEE', 'MSEX', 'MSA',\n",
       "       'NC', 'NFG', 'NNN', 'NEE', 'NDSN', 'NWN', 'NUE', 'ORI', 'PH',\n",
       "       'PNR', 'PBCT', 'PEP', 'PPG', 'PG', 'PSBQ', 'O', 'RLI', 'ROP',\n",
       "       'RPM', 'SPGI', 'SEIC', 'SHW', 'SJW', 'SON', 'SWK', 'SCL', 'SYK',\n",
       "       'SYY', 'TROW', 'SKT', 'TGT', 'TDS', 'TNC', 'TRI', 'TMP', 'TR',\n",
       "       'UGI', 'UMBF', 'UBSI', 'UTX', 'UVV', 'UHT', 'UBA', 'VFC', 'GWW',\n",
       "       'WBA', 'WMT', 'WST', 'WABC', 'WEYS'], dtype='<U5')"
      ]
     },
     "execution_count": 63,
     "metadata": {},
     "output_type": "execute_result"
    }
   ],
   "source": [
    "tickers[98]"
   ]
  },
  {
   "cell_type": "code",
   "execution_count": null,
   "id": "1f466fd6-a3a2-41fa-8ae6-08b3cb75c0e2",
   "metadata": {},
   "outputs": [],
   "source": []
  }
 ],
 "metadata": {
  "kernelspec": {
   "display_name": "Python 3 (ipykernel)",
   "language": "python",
   "name": "python3"
  },
  "language_info": {
   "codemirror_mode": {
    "name": "ipython",
    "version": 3
   },
   "file_extension": ".py",
   "mimetype": "text/x-python",
   "name": "python",
   "nbconvert_exporter": "python",
   "pygments_lexer": "ipython3",
   "version": "3.8.12"
  },
  "widgets": {
   "application/vnd.jupyter.widget-state+json": {
    "state": {},
    "version_major": 2,
    "version_minor": 0
   }
  }
 },
 "nbformat": 4,
 "nbformat_minor": 5
}
